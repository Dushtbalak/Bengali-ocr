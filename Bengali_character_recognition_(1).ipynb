{
  "nbformat": 4,
  "nbformat_minor": 0,
  "metadata": {
    "kernelspec": {
      "display_name": "Python 3",
      "language": "python",
      "name": "python3"
    },
    "language_info": {
      "codemirror_mode": {
        "name": "ipython",
        "version": 3
      },
      "file_extension": ".py",
      "mimetype": "text/x-python",
      "name": "python",
      "nbconvert_exporter": "python",
      "pygments_lexer": "ipython3",
      "version": "3.7.6"
    },
    "colab": {
      "name": "Bengali_character_recognition (1).ipynb",
      "provenance": [],
      "collapsed_sections": [],
      "include_colab_link": true
    },
    "accelerator": "GPU"
  },
  "cells": [
    {
      "cell_type": "markdown",
      "metadata": {
        "id": "view-in-github",
        "colab_type": "text"
      },
      "source": [
        "<a href=\"https://colab.research.google.com/github/Dushtbalak/Bengali-ocr/blob/master/Bengali_character_recognition_(1).ipynb\" target=\"_parent\"><img src=\"https://colab.research.google.com/assets/colab-badge.svg\" alt=\"Open In Colab\"/></a>"
      ]
    },
    {
      "cell_type": "markdown",
      "metadata": {
        "id": "mcVt9ZEZ4N5b",
        "colab_type": "text"
      },
      "source": [
        "Import relevant libraries\n",
        "\n",
        "---\n",
        "\n",
        "[link text](https://)"
      ]
    },
    {
      "cell_type": "code",
      "metadata": {
        "id": "Bgy4_-tN4N5d",
        "colab_type": "code",
        "colab": {}
      },
      "source": [
        "from __future__ import print_function\n",
        "import matplotlib.pyplot as plt\n",
        "import numpy as np\n",
        "import os\n",
        "import sys\n",
        "import tarfile\n",
        "import tensorflow as tf\n",
        "from IPython.display import display, Image\n",
        "from scipy import ndimage\n",
        "from sklearn.linear_model import LogisticRegression\n",
        "from six.moves.urllib.request import urlretrieve\n",
        "from six.moves import cPickle as pickle\n",
        "from PIL import Image\n",
        "from six.moves import range\n",
        "\n",
        "# Config the matlotlib backend as plotting inline in IPython\n",
        "%matplotlib inline"
      ],
      "execution_count": 0,
      "outputs": []
    },
    {
      "cell_type": "code",
      "metadata": {
        "colab_type": "code",
        "id": "9UeyZsDgGrKW",
        "outputId": "65c76eeb-f8ba-4b51-d668-6d0a03f5917d",
        "colab": {
          "base_uri": "https://localhost:8080/",
          "height": 122
        }
      },
      "source": [
        "from google.colab import drive\n",
        "drive.mount('/content/drive/')"
      ],
      "execution_count": 0,
      "outputs": [
        {
          "output_type": "stream",
          "text": [
            "Go to this URL in a browser: https://accounts.google.com/o/oauth2/auth?client_id=947318989803-6bn6qk8qdgf4n4g3pfee6491hc0brc4i.apps.googleusercontent.com&redirect_uri=urn%3aietf%3awg%3aoauth%3a2.0%3aoob&response_type=code&scope=email%20https%3a%2f%2fwww.googleapis.com%2fauth%2fdocs.test%20https%3a%2f%2fwww.googleapis.com%2fauth%2fdrive%20https%3a%2f%2fwww.googleapis.com%2fauth%2fdrive.photos.readonly%20https%3a%2f%2fwww.googleapis.com%2fauth%2fpeopleapi.readonly\n",
            "\n",
            "Enter your authorization code:\n",
            "··········\n",
            "Mounted at /content/drive/\n"
          ],
          "name": "stdout"
        }
      ]
    },
    {
      "cell_type": "code",
      "metadata": {
        "id": "txuXOiCS4N5r",
        "colab_type": "code",
        "outputId": "368ee872-9d5a-4fc8-eb3f-73898c9fd5b4",
        "colab": {
          "base_uri": "https://localhost:8080/",
          "height": 85
        }
      },
      "source": [
        "train_folder = \"/content/drive/My Drive/Train\"\n",
        "test_folder = \"/content/drive/My Drive/Test\"\n",
        "dimensions = (50, 50)\n",
        "\n",
        "max_angle = 15\n",
        "\n",
        "def rotate_img(image, angle, color, filter = Image.NEAREST):\n",
        "    \n",
        "    if image.mode == \"P\" or filter == Image.NEAREST:\n",
        "        matte = Image.new(\"1\", image.size, 1) # mask\n",
        "    else:\n",
        "        matte = Image.new(\"L\", image.size, 255) # true matte\n",
        "    bg = Image.new(image.mode, image.size, color)\n",
        "    bg.paste(\n",
        "        image.rotate(angle, filter), \n",
        "        matte.rotate(angle, filter)\n",
        "    )\n",
        "    return bg\n",
        "\n",
        "def make_greyscale_white_bg(im, r, b, g):\n",
        "\n",
        "    im = im.convert('RGBA')   # Convert to RGBA\n",
        "    \n",
        "    \n",
        "    data = np.array(im)   # \"data\" is a height x width x 4 numpy array\n",
        "    red, green, blue, alpha = data.T # Temporarily unpack the bands for readability\n",
        "\n",
        "    # Replace grey with white... (leaves alpha values alone...)\n",
        "    grey_areas = (red == r) & (blue == b) & (green == g)\n",
        "    data[..., :-1][grey_areas.T] = (255, 255, 255) # Transpose back needed\n",
        "    \n",
        "    im2 = Image.fromarray(data)\n",
        "    im2 = im2.convert('L')   # convert to greyscale image\n",
        "    \n",
        "    \n",
        "    \n",
        "    #im2.show()\n",
        "    \n",
        "    return im2\n",
        "\n",
        "def random_rotate(img, copies, curr_filename, path):\n",
        "    \n",
        "    c_color = img.getpixel((0,0))\n",
        "    \n",
        "    for i in range(copies):\n",
        "        \n",
        "        new_im = rotate_img(img, np.random.randint((0 - max_angle), max_angle), c_color)\n",
        "        new_im.save(os.path.join(path, \"bcc\" + str(curr_filename).zfill(6) + \".bmp\"))\n",
        "        \n",
        "        curr_filename = curr_filename + 1\n",
        "        \n",
        "    \n",
        "    \n",
        "\n",
        "def augment_by_rotations(folder, prev_cnt):\n",
        "    \n",
        "    try:\n",
        "        classes = [os.path.join(folder, d) for d in sorted(os.listdir(folder))]  # get list of all sub-folders in folder\n",
        "        \n",
        "        for path_to_folder in classes: \n",
        "        \n",
        "            if os.path.isdir(path_to_folder):\n",
        "                images = [os.path.join(path_to_folder, i) for i in sorted(os.listdir(path_to_folder)) if i != '.DS_Store']\n",
        "                filename = prev_cnt\n",
        "                for image in images:\n",
        "\n",
        "                    im = Image.open(image)\n",
        "\n",
        "                    random_rotate(im, 4, filename, path_to_folder)\n",
        "                    filename = filename + 4\n",
        "\n",
        "                print(\"Finished augmenting \" + path_to_folder)\n",
        "    except:pass         \n",
        "            \n",
        "\n",
        "def invert_colors(im):\n",
        "    \n",
        "    im = im.convert('RGBA')   # Convert to RGBA  \n",
        "    data = np.array(im)   # \"data\" is a height x width x 4 numpy array\n",
        "    red, green, blue, alpha = data.T # Temporarily unpack the bands for readability\n",
        "    \n",
        "\n",
        "    # Replace grey with white... (leaves alpha values alone...)\n",
        "    black_areas = (red == 0) & (blue == 0) & (green == 0)\n",
        "    data[..., :-1][black_areas.T] = (255, 0, 0) # Transpose back needed\n",
        "    \n",
        "    white_areas = (red == 255) & (blue == 255) & (green == 255)\n",
        "    data[..., :-1][white_areas.T] = (0, 0, 0) # Transpose back needed\n",
        "    \n",
        "    red_areas = (red == 255) & (blue == 0) & (green == 0)\n",
        "    data[..., :-1][red_areas.T] = (255, 255, 255) # Transpose back needed\n",
        "\n",
        "    im2 = Image.fromarray(data)\n",
        "    im2 = im2.convert('L')   # convert to greyscale image\n",
        "    \n",
        "    \n",
        "    \n",
        "    #im2.show()\n",
        "    \n",
        "    return im2\n",
        "    \n",
        "    \n",
        "\n",
        "def test_rotations():\n",
        "        \n",
        "    img = Image.open(\"Train/172/bcc000002.bmp\")\n",
        "    \n",
        "    #img = img.rotate(30)\n",
        "    \n",
        "    img = img.resize(dimensions)\n",
        "    \n",
        "    \n",
        "    \n",
        "    rot = make_greyscale_white_bg(img, 127, 127, 127)\n",
        "    \n",
        "    rot = invert_colors(rot)\n",
        "    c_color = rot.getpixel((0, 0))\n",
        "    rot = rotate_img(rot, 10, c_color)\n",
        "    \n",
        "    w, h = rot.size\n",
        "    rot.show()\n",
        "    \n",
        "    \n",
        "    \n",
        "def process_images(folder):\n",
        "    \n",
        "    classes = [os.path.join(folder, d) for d in sorted(os.listdir(folder))]  # get list of all sub-folders in folder\n",
        "    img_cnt = 0\n",
        "    \n",
        "    for class_x in classes:\n",
        "        \n",
        "        if os.path.isdir(class_x):\n",
        "            \n",
        "            # get paths to all the images in this folder\n",
        "            images = [os.path.join(class_x, i) for i in sorted(os.listdir(class_x)) if i != '.DS_Store']\n",
        "            \n",
        "            for image in images:\n",
        "                \n",
        "                img_cnt = img_cnt + 1\n",
        "                \n",
        "                if(img_cnt % 1000 == 0): \n",
        "                    print(\"Processed %s images\" % str(img_cnt))\n",
        "                \n",
        "                im = Image.open(image)\n",
        "                im = im.resize(dimensions)   # resize image according to dimensions set\n",
        "                \n",
        "                im = make_greyscale_white_bg(im, 127, 127, 127) # turn grey background (if any) to white, and\n",
        "                                                                  # convert into greyscale image with 1 channel\n",
        "                    \n",
        "                im = invert_colors(im)\n",
        "                im.save(image)   # overwrite previous image file with new image\n",
        "                \n",
        "    print(\"Finished processing images, images found = \")\n",
        "    print(img_cnt)\n",
        "                \n",
        "#process_images(test_folder)\n",
        "#process_images(train_folder)\n",
        "\n",
        "#augment_by_rotations(\"Train/172\")\n",
        "\n",
        "augment_by_rotations(train_folder, 240)\n",
        "    "
      ],
      "execution_count": 0,
      "outputs": [
        {
          "output_type": "stream",
          "text": [
            "Finished augmenting /content/drive/My Drive/Train/172\n",
            "Finished augmenting /content/drive/My Drive/Train/173\n",
            "Finished augmenting /content/drive/My Drive/Train/174\n",
            "Finished augmenting /content/drive/My Drive/Train/175\n"
          ],
          "name": "stdout"
        }
      ]
    },
    {
      "cell_type": "markdown",
      "metadata": {
        "id": "IJ6mtt6O9FYd",
        "colab_type": "text"
      },
      "source": [
        "# New Section"
      ]
    },
    {
      "cell_type": "code",
      "metadata": {
        "id": "yQa85bhbGGcg",
        "colab_type": "code",
        "outputId": "9b7be67b-4fd9-406a-b943-37046b5bb43f",
        "colab": {
          "base_uri": "https://localhost:8080/",
          "height": 129
        }
      },
      "source": [
        "from google.colab import drive\n",
        "drive.mount('/content/drive')"
      ],
      "execution_count": 2,
      "outputs": [
        {
          "output_type": "stream",
          "text": [
            "Go to this URL in a browser: https://accounts.google.com/o/oauth2/auth?client_id=947318989803-6bn6qk8qdgf4n4g3pfee6491hc0brc4i.apps.googleusercontent.com&redirect_uri=urn%3aietf%3awg%3aoauth%3a2.0%3aoob&response_type=code&scope=email%20https%3a%2f%2fwww.googleapis.com%2fauth%2fdocs.test%20https%3a%2f%2fwww.googleapis.com%2fauth%2fdrive%20https%3a%2f%2fwww.googleapis.com%2fauth%2fdrive.photos.readonly%20https%3a%2f%2fwww.googleapis.com%2fauth%2fpeopleapi.readonly\n",
            "\n",
            "Enter your authorization code:\n",
            "··········\n",
            "Mounted at /content/drive\n"
          ],
          "name": "stdout"
        }
      ]
    },
    {
      "cell_type": "markdown",
      "metadata": {
        "id": "AG6gLzrN8p_s",
        "colab_type": "text"
      },
      "source": [
        "# New Section"
      ]
    },
    {
      "cell_type": "markdown",
      "metadata": {
        "id": "gSQfBH7L4N50",
        "colab_type": "text"
      },
      "source": [
        "Convert the entire dataset into a 3D array (image index, x, y) of floating point values, normalized to have approximately zero mean and standard deviation ~0.5 to make training easier."
      ]
    },
    {
      "cell_type": "code",
      "metadata": {
        "id": "9ptzgbrw4N52",
        "colab_type": "code",
        "outputId": "d470aa83-8802-46ea-9b97-c7efe0584c10",
        "colab": {
          "base_uri": "https://localhost:8080/",
          "height": 1000
        }
      },
      "source": [
        "import os\n",
        "import cv2 \n",
        "image_size = 50  # Pixel width and height.\n",
        "pixel_depth = 255.0  # Number of levels per pixel.\n",
        "train_folder = \"/content/drive/My Drive/Train\"\n",
        "test_folder = \"/content/drive/My Drive/Test\"\n",
        "import matplotlib.pyplot as ndimage\n",
        "\n",
        "def load_letter(folder, min_num_images):\n",
        "  \"\"\"Load the data for a single letter label.\"\"\"\n",
        "  try:\n",
        "    image_files = os.listdir(folder)\n",
        "    dataset = np.ndarray(shape=(len(image_files), image_size, image_size),\n",
        "                    dtype=np.float32)\n",
        "    print(folder)\n",
        "\n",
        "\n",
        "    print('Full dataset tensor:', dataset.shape)\n",
        "    print('Mean:', np.mean(dataset))\n",
        "    print('Standard deviation:', np.std(dataset))\n",
        "    return dataset\n",
        "  except:\n",
        "    pass\n",
        "        \n",
        "def maybe_pickle(data_folders, min_num_images_per_class, force=False):\n",
        "  dataset_names = []\n",
        "  folders_list = os.listdir(data_folders)\n",
        "  for folder in folders_list:\n",
        "        \n",
        "    #print(os.path.join(data_folders, folder))\n",
        "    curr_folder_path = os.path.join(data_folders, folder)\n",
        "    if os.path.isdir(curr_folder_path):\n",
        "        set_filename = curr_folder_path + '.pickle'\n",
        "        dataset_names.append(set_filename)\n",
        "        if os.path.exists(set_filename) and not force:\n",
        "          # You may override by setting force=True.\n",
        "          print('%s already present - Skipping pickling.' % set_filename)\n",
        "        else:\n",
        "          print('Pickling %s.' % set_filename)\n",
        "          dataset = load_letter(curr_folder_path, min_num_images_per_class)\n",
        "          try:\n",
        "            with open(set_filename, 'wb') as f:\n",
        "                pickle.dump(dataset, f, pickle.HIGHEST_PROTOCOL)\n",
        "                f.close()\n",
        "          except Exception as e:\n",
        "            print('Unable to save data to', set_filename, ':', e)\n",
        "  \n",
        "  return dataset_names\n",
        "\n",
        "train_datasets = maybe_pickle(train_folder, 1050, True)\n",
        "test_datasets = maybe_pickle(test_folder, 58, True)"
      ],
      "execution_count": 16,
      "outputs": [
        {
          "output_type": "stream",
          "text": [
            "Pickling /content/drive/My Drive/Train/176.pickle.\n",
            "/content/drive/My Drive/Train/176\n",
            "Full dataset tensor: (801, 50, 50)\n",
            "Mean: 0.0\n",
            "Standard deviation: 0.0\n",
            "Pickling /content/drive/My Drive/Train/174.pickle.\n",
            "/content/drive/My Drive/Train/174\n",
            "Full dataset tensor: (31059, 50, 50)\n",
            "Mean: nan\n",
            "Standard deviation: nan\n",
            "Pickling /content/drive/My Drive/Train/172.pickle.\n",
            "/content/drive/My Drive/Train/172\n",
            "Full dataset tensor: (81840, 50, 50)\n",
            "Mean: nan\n",
            "Standard deviation: nan\n",
            "Pickling /content/drive/My Drive/Train/175.pickle.\n",
            "/content/drive/My Drive/Train/175\n",
            "Full dataset tensor: (3355, 50, 50)\n",
            "Mean: nan\n",
            "Standard deviation: nan\n",
            "Pickling /content/drive/My Drive/Train/173.pickle.\n",
            "/content/drive/My Drive/Train/173\n",
            "Full dataset tensor: (81840, 50, 50)\n",
            "Mean: nan\n",
            "Standard deviation: nan\n",
            "Pickling /content/drive/My Drive/Test/178.pickle.\n",
            "/content/drive/My Drive/Test/178\n",
            "Full dataset tensor: (60, 50, 50)\n",
            "Mean: -364060.4\n",
            "Standard deviation: 368870.75\n",
            "Pickling /content/drive/My Drive/Test/179.pickle.\n",
            "/content/drive/My Drive/Test/179\n",
            "Full dataset tensor: (60, 50, 50)\n",
            "Mean: nan\n",
            "Standard deviation: nan\n",
            "Pickling /content/drive/My Drive/Test/181.pickle.\n",
            "/content/drive/My Drive/Test/181\n",
            "Full dataset tensor: (60, 50, 50)\n",
            "Mean: nan\n",
            "Standard deviation: nan\n",
            "Pickling /content/drive/My Drive/Test/172.pickle.\n",
            "/content/drive/My Drive/Test/172\n",
            "Full dataset tensor: (61, 50, 50)\n",
            "Mean: nan\n",
            "Standard deviation: nan\n",
            "Pickling /content/drive/My Drive/Test/180.pickle.\n"
          ],
          "name": "stdout"
        },
        {
          "output_type": "stream",
          "text": [
            "/usr/local/lib/python3.6/dist-packages/numpy/core/_methods.py:151: RuntimeWarning: overflow encountered in reduce\n",
            "  ret = umr_sum(arr, axis, dtype, out, keepdims)\n",
            "/usr/local/lib/python3.6/dist-packages/numpy/core/_methods.py:183: RuntimeWarning: overflow encountered in reduce\n",
            "  arrmean = umr_sum(arr, axis, dtype, keepdims=True)\n"
          ],
          "name": "stderr"
        },
        {
          "output_type": "stream",
          "text": [
            "/content/drive/My Drive/Test/180\n",
            "Full dataset tensor: (60, 50, 50)\n",
            "Mean: nan\n",
            "Standard deviation: nan\n",
            "Pickling /content/drive/My Drive/Test/176.pickle.\n",
            "/content/drive/My Drive/Test/176\n",
            "Full dataset tensor: (60, 50, 50)\n",
            "Mean: nan\n",
            "Standard deviation: nan\n",
            "Pickling /content/drive/My Drive/Test/175.pickle.\n",
            "/content/drive/My Drive/Test/175\n",
            "Full dataset tensor: (60, 50, 50)\n",
            "Mean: nan\n",
            "Standard deviation: nan\n",
            "Pickling /content/drive/My Drive/Test/183.pickle.\n",
            "/content/drive/My Drive/Test/183\n",
            "Full dataset tensor: (60, 50, 50)\n",
            "Mean: nan\n",
            "Standard deviation: nan\n",
            "Pickling /content/drive/My Drive/Test/173.pickle.\n",
            "/content/drive/My Drive/Test/173\n",
            "Full dataset tensor: (60, 50, 50)\n",
            "Mean: nan\n",
            "Standard deviation: nan\n",
            "Pickling /content/drive/My Drive/Test/177.pickle.\n",
            "/content/drive/My Drive/Test/177\n",
            "Full dataset tensor: (60, 50, 50)\n",
            "Mean: nan\n",
            "Standard deviation: nan\n",
            "Pickling /content/drive/My Drive/Test/185.pickle.\n",
            "/content/drive/My Drive/Test/185\n",
            "Full dataset tensor: (60, 50, 50)\n",
            "Mean: nan\n",
            "Standard deviation: nan\n",
            "Pickling /content/drive/My Drive/Test/182.pickle.\n",
            "/content/drive/My Drive/Test/182\n",
            "Full dataset tensor: (60, 50, 50)\n",
            "Mean: nan\n",
            "Standard deviation: nan\n",
            "Pickling /content/drive/My Drive/Test/184.pickle.\n",
            "/content/drive/My Drive/Test/184\n",
            "Full dataset tensor: (60, 50, 50)\n",
            "Mean: nan\n",
            "Standard deviation: nan\n",
            "Pickling /content/drive/My Drive/Test/186.pickle.\n",
            "/content/drive/My Drive/Test/186\n",
            "Full dataset tensor: (14, 50, 50)\n",
            "Mean: nan\n",
            "Standard deviation: nan\n",
            "Pickling /content/drive/My Drive/Test/174.pickle.\n",
            "/content/drive/My Drive/Test/174\n",
            "Full dataset tensor: (60, 50, 50)\n",
            "Mean: nan\n",
            "Standard deviation: nan\n"
          ],
          "name": "stdout"
        }
      ]
    },
    {
      "cell_type": "code",
      "metadata": {
        "id": "nK3xXhvdXPQz",
        "colab_type": "code",
        "colab": {
          "base_uri": "https://localhost:8080/",
          "height": 35
        },
        "outputId": "d5d01c72-7aac-4b47-ffa1-052962ebda60"
      },
      "source": [
        "from google.colab import drive\n",
        "drive.mount('/content/drive')"
      ],
      "execution_count": 11,
      "outputs": [
        {
          "output_type": "stream",
          "text": [
            "Drive already mounted at /content/drive; to attempt to forcibly remount, call drive.mount(\"/content/drive\", force_remount=True).\n"
          ],
          "name": "stdout"
        }
      ]
    },
    {
      "cell_type": "markdown",
      "metadata": {
        "id": "ueDXCZpO4N5_",
        "colab_type": "text"
      },
      "source": [
        "Merge the training dataset and also create a validation set for hyperparameter training. Also merge the test dataset. Then randomize all the datasets."
      ]
    },
    {
      "cell_type": "code",
      "metadata": {
        "id": "dCM-2xYE4N6B",
        "colab_type": "code",
        "colab": {
          "base_uri": "https://localhost:8080/",
          "height": 248
        },
        "outputId": "3e817a74-0cbd-46b4-8dd1-253e4d6581f7"
      },
      "source": [
        "def make_arrays(nb_rows, img_size):\n",
        "  if nb_rows:\n",
        "    dataset = np.ndarray((nb_rows, img_size, img_size), dtype=np.float32)\n",
        "    labels = np.ndarray(nb_rows, dtype=np.int32)\n",
        "  else:\n",
        "    dataset, labels = None, None\n",
        "  return dataset, labels\n",
        "\n",
        "def merge_datasets(pickle_files, train_size, valid_size=0):\n",
        "  num_classes = len(pickle_files)\n",
        "  valid_dataset, valid_labels = make_arrays(valid_size, image_size)\n",
        "  train_dataset, train_labels = make_arrays(train_size, image_size)\n",
        "  vsize_per_class = valid_size // num_classes\n",
        "  tsize_per_class = train_size // num_classes\n",
        "    \n",
        "  start_v, start_t = 0, 0\n",
        "  end_v, end_t = vsize_per_class, tsize_per_class\n",
        "  end_l = vsize_per_class+tsize_per_class\n",
        "  for label, pickle_file in enumerate(pickle_files):       \n",
        "    try:\n",
        "      with open(pickle_file, 'rb') as f:\n",
        "        letter_set = pickle.load(f)\n",
        "        f.close()\n",
        "        # let's shuffle the letters to have random validation and training set\n",
        "        np.random.shuffle(letter_set)\n",
        "        if valid_dataset is not None:\n",
        "          valid_letter = letter_set[:vsize_per_class, :, :]\n",
        "          valid_dataset[start_v:end_v, :, :] = valid_letter\n",
        "          valid_labels[start_v:end_v] = label\n",
        "          start_v += vsize_per_class\n",
        "          end_v += vsize_per_class\n",
        "                    \n",
        "        train_letter = letter_set[vsize_per_class:end_l, :, :]\n",
        "        train_dataset[start_t:end_t, :, :] = train_letter\n",
        "        train_labels[start_t:end_t] = label\n",
        "        start_t += tsize_per_class\n",
        "        end_t += tsize_per_class\n",
        "    except Exception as e:\n",
        "      print('Unable to process data from', pickle_file, ':', e)\n",
        "      raise\n",
        "    \n",
        "  return valid_dataset, valid_labels, train_dataset, train_labels\n",
        "            \n",
        "            \n",
        "train_size = 50000\n",
        "valid_size = 5000\n",
        "test_size = 3000\n",
        "\n",
        "valid_dataset, valid_labels, train_dataset, train_labels = merge_datasets(\n",
        "  train_datasets, train_size, valid_size)\n",
        "_, _, test_dataset, test_labels = merge_datasets(test_datasets, test_size)\n",
        "\n",
        "print('Training:', train_dataset.shape, train_labels.shape)\n",
        "print('Validation:', valid_dataset.shape, valid_labels.shape)\n",
        "print('Testing:', test_dataset.shape, test_labels.shape)"
      ],
      "execution_count": 12,
      "outputs": [
        {
          "output_type": "error",
          "ename": "NameError",
          "evalue": "ignored",
          "traceback": [
            "\u001b[0;31m---------------------------------------------------------------------------\u001b[0m",
            "\u001b[0;31mNameError\u001b[0m                                 Traceback (most recent call last)",
            "\u001b[0;32m<ipython-input-12-7b62d6fcdd59>\u001b[0m in \u001b[0;36m<module>\u001b[0;34m()\u001b[0m\n\u001b[1;32m     48\u001b[0m \u001b[0;34m\u001b[0m\u001b[0m\n\u001b[1;32m     49\u001b[0m valid_dataset, valid_labels, train_dataset, train_labels = merge_datasets(\n\u001b[0;32m---> 50\u001b[0;31m   train_datasets, train_size, valid_size)\n\u001b[0m\u001b[1;32m     51\u001b[0m \u001b[0m_\u001b[0m\u001b[0;34m,\u001b[0m \u001b[0m_\u001b[0m\u001b[0;34m,\u001b[0m \u001b[0mtest_dataset\u001b[0m\u001b[0;34m,\u001b[0m \u001b[0mtest_labels\u001b[0m \u001b[0;34m=\u001b[0m \u001b[0mmerge_datasets\u001b[0m\u001b[0;34m(\u001b[0m\u001b[0mtest_datasets\u001b[0m\u001b[0;34m,\u001b[0m \u001b[0mtest_size\u001b[0m\u001b[0;34m)\u001b[0m\u001b[0;34m\u001b[0m\u001b[0;34m\u001b[0m\u001b[0m\n\u001b[1;32m     52\u001b[0m \u001b[0;34m\u001b[0m\u001b[0m\n",
            "\u001b[0;31mNameError\u001b[0m: name 'train_datasets' is not defined"
          ]
        }
      ]
    },
    {
      "cell_type": "code",
      "metadata": {
        "id": "vokbaxM04N6I",
        "colab_type": "code",
        "colab": {}
      },
      "source": [
        "def randomize(dataset, labels):\n",
        "  permutation = np.random.permutation(labels.shape[0])\n",
        "  shuffled_dataset = dataset[permutation,:,:]\n",
        "  shuffled_labels = labels[permutation]\n",
        "  return shuffled_dataset, shuffled_labels\n",
        "train_dataset, train_labels = randomize(train_dataset, train_labels)\n",
        "test_dataset, test_labels = randomize(test_dataset, test_labels)\n",
        "valid_dataset, valid_labels = randomize(valid_dataset, valid_labels)"
      ],
      "execution_count": 0,
      "outputs": []
    },
    {
      "cell_type": "markdown",
      "metadata": {
        "id": "GcR8mJjy4N6P",
        "colab_type": "text"
      },
      "source": [
        "Verifying that the data is still good..."
      ]
    },
    {
      "cell_type": "code",
      "metadata": {
        "id": "wm8uOwBs4N6Q",
        "colab_type": "code",
        "colab": {}
      },
      "source": [
        "imgs_per_set = 3\n",
        "def display_from_array(dataset, label):\n",
        "        \n",
        "    num_imgs, x, y = np.shape(dataset)\n",
        "    \n",
        "    for i in range(0, imgs_per_set):\n",
        "    \n",
        "        idx = np.random.randint(0, num_imgs - 1)\n",
        "\n",
        "        print(\"Label %s\" % label[idx])\n",
        "        plt.imshow(dataset[idx])\n",
        "        \n",
        "display_from_array(train_dataset, train_labels)\n",
        "display_from_array(test_dataset, test_labels)\n",
        "display_from_array(valid_dataset, valid_labels)"
      ],
      "execution_count": 0,
      "outputs": []
    },
    {
      "cell_type": "code",
      "metadata": {
        "id": "6qM8M9pG4N6X",
        "colab_type": "code",
        "colab": {}
      },
      "source": [
        "pickle_file = 'bengaliOCR.pickle'\n",
        "\n",
        "try:\n",
        "  f = open(pickle_file, 'wb')\n",
        "  save = {\n",
        "    'train_dataset': train_dataset,\n",
        "    'train_labels': train_labels,\n",
        "    'valid_dataset': valid_dataset,\n",
        "    'valid_labels': valid_labels,\n",
        "    'test_dataset': test_dataset,\n",
        "    'test_labels': test_labels,\n",
        "    }\n",
        "  pickle.dump(save, f, pickle.HIGHEST_PROTOCOL)\n",
        "  f.close()\n",
        "except Exception as e:\n",
        "  print('Unable to save data to', pickle_file, ':', e)\n",
        "  raise"
      ],
      "execution_count": 0,
      "outputs": []
    },
    {
      "cell_type": "code",
      "metadata": {
        "id": "Jg_g2wGU4N6b",
        "colab_type": "code",
        "colab": {}
      },
      "source": [
        "statinfo = os.stat(pickle_file)\n",
        "print('Compressed pickle size:', statinfo.st_size)"
      ],
      "execution_count": 0,
      "outputs": []
    },
    {
      "cell_type": "markdown",
      "metadata": {
        "id": "MUX5P-LB4N6m",
        "colab_type": "text"
      },
      "source": [
        "Trying an off-the-shelf classifier to see how well it fits"
      ]
    },
    {
      "cell_type": "code",
      "metadata": {
        "id": "dghBQ0Bm4N6n",
        "colab_type": "code",
        "colab": {}
      },
      "source": [
        "trn_size = 4000\n",
        "test_size = 500\n",
        "\n",
        "def fitLogisticReg(X, y):\n",
        "    \n",
        "    nsamples, nx, ny = np.shape(X)\n",
        "    d2_X = X.reshape(nsamples, nx * ny)\n",
        "    \n",
        "    clf = LogisticRegression()\n",
        "    clf.fit(d2_X, y)\n",
        "    \n",
        "    return clf\n",
        "\n",
        "def calcAccuracy(clf, test_X, test_y):\n",
        "    \n",
        "    corr = 0\n",
        "    total = 0\n",
        "    \n",
        "    nsamples, nx, ny = np.shape(test_X)\n",
        "    d2_testX = test_X.reshape(nsamples, nx * ny)\n",
        "    \n",
        "    predict_y = clf.predict(d2_testX)\n",
        "    \n",
        "    for i, prediction in enumerate(predict_y):\n",
        "        \n",
        "        if prediction == test_y[i]:\n",
        "            corr = corr + 1\n",
        "            \n",
        "        total = total + 1\n",
        "        \n",
        "    return corr * 100 / total\n",
        "\n",
        "clf = fitLogisticReg(train_dataset[:trn_size - 1, : , : ], train_labels[ : trn_size - 1])\n",
        "\n",
        "print(\"Accuracy = %d\" % calcAccuracy(clf, test_dataset[ : test_size - 1, : , : ], test_labels[ : test_size - 1]), \"%\")"
      ],
      "execution_count": 0,
      "outputs": []
    },
    {
      "cell_type": "markdown",
      "metadata": {
        "id": "eGcadIQ14N6t",
        "colab_type": "text"
      },
      "source": [
        "An SVM seems to perform a poor fit, at least on this data set."
      ]
    },
    {
      "cell_type": "markdown",
      "metadata": {
        "id": "6JcV4IAM4N6u",
        "colab_type": "text"
      },
      "source": [
        "Reformat the data so that the input matrices become flat matrices, and the labels are represented as one-hot encodings."
      ]
    },
    {
      "cell_type": "code",
      "metadata": {
        "id": "-AT7RCgn4N6v",
        "colab_type": "code",
        "colab": {}
      },
      "source": [
        "image_size = 50\n",
        "num_labels = 50\n",
        "\n",
        "def reformat(dataset, labels):\n",
        "  dataset = dataset.reshape((-1, image_size * image_size)).astype(np.float32)\n",
        "  # Map 0 to [1.0, 0.0, 0.0 ...], 1 to [0.0, 1.0, 0.0 ...]\n",
        "  labels = (np.arange(num_labels) == labels[:,None]).astype(np.float32)\n",
        "  return dataset, labels\n",
        "train_dataset, train_labels = reformat(train_dataset, train_labels)\n",
        "valid_dataset, valid_labels = reformat(valid_dataset, valid_labels)\n",
        "test_dataset, test_labels = reformat(test_dataset, test_labels)\n",
        "print('Training set', train_dataset.shape, train_labels.shape)\n",
        "print('Validation set', valid_dataset.shape, valid_labels.shape)\n",
        "print('Test set', test_dataset.shape, test_labels.shape)"
      ],
      "execution_count": 0,
      "outputs": []
    },
    {
      "cell_type": "markdown",
      "metadata": {
        "id": "1sLnSSD44N63",
        "colab_type": "text"
      },
      "source": [
        "Trying out a 1-hidden layer neural-network with ReLUs and 1024 hidden nodes, using stochastic gradient descent."
      ]
    },
    {
      "cell_type": "code",
      "metadata": {
        "id": "mdy6NQc64N65",
        "colab_type": "code",
        "colab": {}
      },
      "source": [
        "def accuracy(predictions, labels):\n",
        "  return (100.0 * np.sum(np.argmax(predictions, 1) == np.argmax(labels, 1))\n",
        "          / predictions.shape[0])"
      ],
      "execution_count": 0,
      "outputs": []
    },
    {
      "cell_type": "code",
      "metadata": {
        "id": "Hbui4yg_4N7D",
        "colab_type": "code",
        "colab": {}
      },
      "source": [
        "def SGD_relu():\n",
        "    \n",
        "    batch_size = 128\n",
        "    h = 1024\n",
        "    h2 = 256\n",
        "    num_steps = 4001\n",
        "    beta = 0.0005\n",
        "\n",
        "    graph = tf.Graph()\n",
        "    with graph.as_default():\n",
        "\n",
        "      # Input data. For the training data, we use a placeholder that will be fed\n",
        "      # at run time with a training minibatch.\n",
        "      tf_train_dataset = tf.placeholder(tf.float32,\n",
        "                                        shape=(batch_size, image_size * image_size))\n",
        "      tf_train_labels = tf.placeholder(tf.float32, shape=(batch_size, num_labels))\n",
        "      tf_valid_dataset = tf.constant(valid_dataset)\n",
        "      tf_test_dataset = tf.constant(test_dataset)\n",
        "\n",
        "      # Variables.\n",
        "      weights1 = tf.Variable(\n",
        "        tf.truncated_normal([image_size * image_size, h], stddev = 0.02))\n",
        "      biases1 = tf.Variable(tf.zeros([h]))\n",
        "      weights2 = tf.Variable(\n",
        "        tf.truncated_normal([h, h2], stddev = 0.03125))\n",
        "      biases2 = tf.Variable(tf.zeros([h2]))\n",
        "      weights3 = tf.Variable(\n",
        "        tf.truncated_normal([h2, num_labels], stddev = 0.0884))\n",
        "      biases3 = tf.Variable(tf.zeros([num_labels]))\n",
        "\n",
        "      # Training computation.\n",
        "        \n",
        "      def model(dataset):\n",
        "        \n",
        "          logits1 = tf.matmul(dataset, weights1) + biases1\n",
        "\n",
        "          relu_outputs1 = tf.nn.relu(logits1)\n",
        "\n",
        "          logits2 = tf.matmul(relu_outputs1, weights2) + biases2\n",
        "            \n",
        "          relu_outputs2 = tf.nn.relu(logits2)\n",
        "        \n",
        "          logits3 = tf.matmul(relu_outputs2, weights3) + biases3\n",
        "            \n",
        "          return logits3\n",
        "      \n",
        "        \n",
        "      train_logits = model(tf_train_dataset)\n",
        "      valid_logits = model(tf_valid_dataset)\n",
        "      test_logits = model(tf_test_dataset)\n",
        "\n",
        "\n",
        "    \n",
        "      loss = tf.reduce_mean(\n",
        "        tf.nn.softmax_cross_entropy_with_logits(train_logits, tf_train_labels)) + beta * (tf.nn.l2_loss(weights1) + tf.nn.l2_loss(weights2) + tf.nn.l2_loss(weights3))\n",
        "\n",
        "\n",
        "        \n",
        "      # Optimizer.\n",
        "      optimizer = tf.train.GradientDescentOptimizer(0.1).minimize(loss)\n",
        "      # Predictions for the training, validation, and test data.\n",
        "      train_prediction = tf.nn.softmax(train_logits)\n",
        "      valid_prediction = tf.nn.softmax(valid_logits)\n",
        "      test_prediction = tf.nn.softmax(test_logits)\n",
        "        \n",
        "        \n",
        "    num_steps = 8001\n",
        "\n",
        "    with tf.Session(graph=graph) as session:\n",
        "      tf.initialize_all_variables().run()\n",
        "      print(\"Initialized\")\n",
        "      for step in range(num_steps):\n",
        "        # Pick an offset within the training data, which has been randomized.\n",
        "        # Note: we could use better randomization across epochs.\n",
        "        offset = (step * batch_size) % (train_labels.shape[0] - batch_size)\n",
        "        # Generate a minibatch.\n",
        "        batch_data = train_dataset[offset:(offset + batch_size), :]\n",
        "        batch_labels = train_labels[offset:(offset + batch_size), :]\n",
        "        # Prepare a dictionary telling the session where to feed the minibatch.\n",
        "        # The key of the dictionary is the placeholder node of the graph to be fed,\n",
        "        # and the value is the numpy array to feed to it.\n",
        "        feed_dict = {tf_train_dataset : batch_data, tf_train_labels : batch_labels}\n",
        "        _, l, predictions = session.run(\n",
        "          [optimizer, loss, train_prediction], feed_dict=feed_dict)\n",
        "        if (step % 500 == 0):\n",
        "          print(\"Minibatch loss at step %d: %f\" % (step, l))\n",
        "          print(\"Minibatch accuracy: %.1f%%\" % accuracy(predictions, batch_labels))\n",
        "          print(\"Validation accuracy: %.1f%%\" % accuracy(\n",
        "            valid_prediction.eval(), valid_labels))\n",
        "      print(\"Test accuracy: %.1f%%\" % accuracy(test_prediction.eval(), test_labels))\n",
        "    \n",
        "SGD_relu()"
      ],
      "execution_count": 0,
      "outputs": []
    },
    {
      "cell_type": "markdown",
      "metadata": {
        "id": "iUm2H2PQ4N7I",
        "colab_type": "text"
      },
      "source": [
        "This is a significant increase in accuracy compared to the simple linear logistic classifier. However, I am worried that the test dataset might be too small."
      ]
    },
    {
      "cell_type": "markdown",
      "metadata": {
        "id": "3k2z7_SS4N7J",
        "colab_type": "text"
      },
      "source": [
        "Next, I introduce dropout instead of L2-regularization as a way of controlling overfitting."
      ]
    },
    {
      "cell_type": "code",
      "metadata": {
        "id": "UaaKPwP34N7K",
        "colab_type": "code",
        "colab": {}
      },
      "source": [
        "def SGD_relu_dropout():\n",
        "    \n",
        "    batch_size = 128\n",
        "    h = 1024\n",
        "    h2 = 256\n",
        "    num_steps = 4001\n",
        "    beta = 0.0005\n",
        "    keep_prob = 0.75\n",
        "    decay_step = 1000\n",
        "    base = 0.86\n",
        "\n",
        "    graph = tf.Graph()\n",
        "    with graph.as_default():\n",
        "\n",
        "      # Input data. For the training data, we use a placeholder that will be fed\n",
        "      # at run time with a training minibatch.\n",
        "      tf_train_dataset = tf.placeholder(tf.float32,\n",
        "                                        shape=(batch_size, image_size * image_size))\n",
        "      tf_train_labels = tf.placeholder(tf.float32, shape=(batch_size, num_labels))\n",
        "      tf_valid_dataset = tf.constant(valid_dataset)\n",
        "      tf_test_dataset = tf.constant(test_dataset)\n",
        "\n",
        "      # Variables.\n",
        "      weights1 = tf.Variable(\n",
        "        tf.truncated_normal([image_size * image_size, h], stddev = 0.02))\n",
        "      biases1 = tf.Variable(tf.zeros([h]))\n",
        "      weights2 = tf.Variable(\n",
        "        tf.truncated_normal([h, h2], stddev = 0.03125))\n",
        "      biases2 = tf.Variable(tf.zeros([h2]))\n",
        "      weights3 = tf.Variable(\n",
        "        tf.truncated_normal([h2, num_labels], stddev = 0.0884))\n",
        "      biases3 = tf.Variable(tf.zeros([num_labels]))\n",
        "    \n",
        "      global_step = tf.Variable(0)  # count the number of steps taken.\n",
        "      learning_rate = tf.train.exponential_decay(0.5, global_step, decay_step, base)\n",
        "\n",
        "      # Training computation.\n",
        "        \n",
        "      def model(dataset, useDropout = False):\n",
        "        \n",
        "          logits1 = tf.matmul(dataset, weights1) + biases1\n",
        "\n",
        "          relu_outputs1 = tf.nn.relu(logits1)\n",
        "        \n",
        "          if useDropout:\n",
        "                dropout_layer0 = tf.nn.dropout(relu_outputs1, keep_prob)\n",
        "          else:\n",
        "                dropout_layer0 = relu_outputs1\n",
        "\n",
        "          logits2 = tf.matmul(dropout_layer0, weights2) + biases2\n",
        "            \n",
        "          relu_outputs2 = tf.nn.relu(logits2)\n",
        "        \n",
        "          if useDropout:\n",
        "                dropout_layer = tf.nn.dropout(relu_outputs2, keep_prob)\n",
        "          else:\n",
        "                dropout_layer = relu_outputs2\n",
        "        \n",
        "          logits3 = tf.matmul(dropout_layer, weights3) + biases3\n",
        "            \n",
        "          return logits3\n",
        "      \n",
        "        \n",
        "      train_logits = model(tf_train_dataset, True)\n",
        "      valid_logits = model(tf_valid_dataset)\n",
        "      test_logits = model(tf_test_dataset)\n",
        "\n",
        "\n",
        "    \n",
        "      loss = tf.reduce_mean(\n",
        "        tf.nn.softmax_cross_entropy_with_logits(train_logits, tf_train_labels)) + beta * (tf.nn.l2_loss(weights1) + tf.nn.l2_loss(weights2) + tf.nn.l2_loss(weights3))\n",
        "\n",
        "\n",
        "        \n",
        "      # Optimizer.\n",
        "      optimizer = tf.train.GradientDescentOptimizer(learning_rate).minimize(loss, global_step = global_step)\n",
        "      # Predictions for the training, validation, and test data.\n",
        "      train_prediction = tf.nn.softmax(model(tf_train_dataset, False))\n",
        "      valid_prediction = tf.nn.softmax(valid_logits)\n",
        "      test_prediction = tf.nn.softmax(test_logits)\n",
        "        \n",
        "        \n",
        "    num_steps = 20001\n",
        "\n",
        "    with tf.Session(graph=graph) as session:\n",
        "      tf.initialize_all_variables().run()\n",
        "      print(\"Initialized\")\n",
        "      for step in range(num_steps):\n",
        "        # Pick an offset within the training data, which has been randomized.\n",
        "        # Note: we could use better randomization across epochs.\n",
        "        offset = (step * batch_size) % (train_labels.shape[0] - batch_size)\n",
        "        # Generate a minibatch.\n",
        "        batch_data = train_dataset[offset:(offset + batch_size), :]\n",
        "        batch_labels = train_labels[offset:(offset + batch_size), :]\n",
        "        # Prepare a dictionary telling the session where to feed the minibatch.\n",
        "        # The key of the dictionary is the placeholder node of the graph to be fed,\n",
        "        # and the value is the numpy array to feed to it.\n",
        "        feed_dict = {tf_train_dataset : batch_data, tf_train_labels : batch_labels}\n",
        "        _, l, predictions = session.run(\n",
        "          [optimizer, loss, train_prediction], feed_dict=feed_dict)\n",
        "        if (step % 500 == 0):\n",
        "          print(\"Minibatch loss at step %d: %f\" % (step, l))\n",
        "          print(\"Minibatch accuracy: %.1f%%\" % accuracy(predictions, batch_labels))\n",
        "          print(\"Validation accuracy: %.1f%%\" % accuracy(\n",
        "            valid_prediction.eval(), valid_labels))\n",
        "      print(\"Test accuracy: %.1f%%\" % accuracy(test_prediction.eval(), test_labels))\n",
        "    \n",
        "SGD_relu_dropout()\n"
      ],
      "execution_count": 0,
      "outputs": []
    },
    {
      "cell_type": "markdown",
      "metadata": {
        "id": "45SfhIs14N7U",
        "colab_type": "text"
      },
      "source": [
        "Dropout also helps improve performance by a few percentage points. Interestingly, I also discovered that using the Adagrad optimizer instead of regular gradient descent helped improve performance."
      ]
    },
    {
      "cell_type": "markdown",
      "metadata": {
        "id": "KS-RDzzf4N7V",
        "colab_type": "text"
      },
      "source": [
        "Introducing dropout on the first hidden layer as well, and annealing the learning rate using a decay function further pushes up the accuracy to 85.6%. This has been achieved using a neural network with only 2 hidden layers."
      ]
    },
    {
      "cell_type": "markdown",
      "metadata": {
        "id": "wlk4q7CD4N7V",
        "colab_type": "text"
      },
      "source": [
        "Next, I introduce a very simple convnet with maxpooling. This net has two convolutional layers followed by 1 fully-connected layer. I do not include dropout or other regularization techniques."
      ]
    },
    {
      "cell_type": "code",
      "metadata": {
        "id": "MSEgVIDB4N7Y",
        "colab_type": "code",
        "colab": {}
      },
      "source": [
        "with open(pickle_file, 'rb') as f:\n",
        "  save = pickle.load(f)\n",
        "  train_dataset = save['train_dataset']\n",
        "  train_labels = save['train_labels']\n",
        "  valid_dataset = save['valid_dataset']\n",
        "  valid_labels = save['valid_labels']\n",
        "  test_dataset = save['test_dataset']\n",
        "  test_labels = save['test_labels']\n",
        "  del save  # hint to help gc free up memory\n",
        "  print('Training set', train_dataset.shape, train_labels.shape)\n",
        "  print('Validation set', valid_dataset.shape, valid_labels.shape)\n",
        "  print('Test set', test_dataset.shape, test_labels.shape)"
      ],
      "execution_count": 0,
      "outputs": []
    },
    {
      "cell_type": "code",
      "metadata": {
        "id": "MPLJ9rUV4N7i",
        "colab_type": "code",
        "colab": {}
      },
      "source": [
        "image_size = 50\n",
        "num_labels = 50\n",
        "num_channels = 1 # grayscale\n",
        "\n",
        "import numpy as np\n",
        "\n",
        "def reformat(dataset, labels):\n",
        "  dataset = dataset.reshape(\n",
        "    (-1, image_size, image_size, num_channels)).astype(np.float32)\n",
        "  labels = (np.arange(num_labels) == labels[:,None]).astype(np.float32)\n",
        "  return dataset, labels\n",
        "train_dataset, train_labels = reformat(train_dataset, train_labels)\n",
        "valid_dataset, valid_labels = reformat(valid_dataset, valid_labels)\n",
        "test_dataset, test_labels = reformat(test_dataset, test_labels)\n",
        "print('Training set', train_dataset.shape, train_labels.shape)\n",
        "print('Validation set', valid_dataset.shape, valid_labels.shape)\n",
        "print('Test set', test_dataset.shape, test_labels.shape)"
      ],
      "execution_count": 0,
      "outputs": []
    },
    {
      "cell_type": "code",
      "metadata": {
        "id": "c8ng908o4N7n",
        "colab_type": "code",
        "colab": {}
      },
      "source": [
        ""
      ],
      "execution_count": 0,
      "outputs": []
    },
    {
      "cell_type": "code",
      "metadata": {
        "id": "A9kar0qI4N7t",
        "colab_type": "code",
        "colab": {}
      },
      "source": [
        ""
      ],
      "execution_count": 0,
      "outputs": []
    }
  ]
}